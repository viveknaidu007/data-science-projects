{
 "cells": [
  {
   "cell_type": "code",
   "execution_count": 21,
   "metadata": {},
   "outputs": [],
   "source": [
    "# refercnfe dataset link(https://archive.ics.uci.edu/dataset/18/pittsburgh+bridges)\n"
   ]
  },
  {
   "cell_type": "code",
   "execution_count": 1,
   "metadata": {},
   "outputs": [],
   "source": [
    "#importing libraries\n",
    "import pandas as pd\n",
    "import numpy as np\n",
    "import matplotlib.pyplot as plt"
   ]
  },
  {
   "cell_type": "code",
   "execution_count": 2,
   "metadata": {},
   "outputs": [
    {
     "data": {
      "text/html": [
       "<div>\n",
       "<style scoped>\n",
       "    .dataframe tbody tr th:only-of-type {\n",
       "        vertical-align: middle;\n",
       "    }\n",
       "\n",
       "    .dataframe tbody tr th {\n",
       "        vertical-align: top;\n",
       "    }\n",
       "\n",
       "    .dataframe thead th {\n",
       "        text-align: right;\n",
       "    }\n",
       "</style>\n",
       "<table border=\"1\" class=\"dataframe\">\n",
       "  <thead>\n",
       "    <tr style=\"text-align: right;\">\n",
       "      <th></th>\n",
       "      <th>identifier</th>\n",
       "      <th>river</th>\n",
       "      <th>location</th>\n",
       "      <th>erected_year</th>\n",
       "      <th>purpose</th>\n",
       "      <th>length</th>\n",
       "      <th>lanes</th>\n",
       "      <th>clear-g</th>\n",
       "      <th>t-or-d</th>\n",
       "      <th>material</th>\n",
       "      <th>span</th>\n",
       "      <th>rel</th>\n",
       "      <th>type</th>\n",
       "    </tr>\n",
       "  </thead>\n",
       "  <tbody>\n",
       "    <tr>\n",
       "      <th>0</th>\n",
       "      <td>E1</td>\n",
       "      <td>M</td>\n",
       "      <td>3</td>\n",
       "      <td>1818</td>\n",
       "      <td>HIGHWAY</td>\n",
       "      <td>?</td>\n",
       "      <td>2</td>\n",
       "      <td>N</td>\n",
       "      <td>THROUGH</td>\n",
       "      <td>WOOD</td>\n",
       "      <td>SHORT</td>\n",
       "      <td>S</td>\n",
       "      <td>WOOD</td>\n",
       "    </tr>\n",
       "    <tr>\n",
       "      <th>1</th>\n",
       "      <td>E2</td>\n",
       "      <td>A</td>\n",
       "      <td>25</td>\n",
       "      <td>1819</td>\n",
       "      <td>HIGHWAY</td>\n",
       "      <td>1037</td>\n",
       "      <td>2</td>\n",
       "      <td>N</td>\n",
       "      <td>THROUGH</td>\n",
       "      <td>WOOD</td>\n",
       "      <td>SHORT</td>\n",
       "      <td>S</td>\n",
       "      <td>WOOD</td>\n",
       "    </tr>\n",
       "    <tr>\n",
       "      <th>2</th>\n",
       "      <td>E3</td>\n",
       "      <td>A</td>\n",
       "      <td>39</td>\n",
       "      <td>1829</td>\n",
       "      <td>AQUEDUCT</td>\n",
       "      <td>?</td>\n",
       "      <td>1</td>\n",
       "      <td>N</td>\n",
       "      <td>THROUGH</td>\n",
       "      <td>WOOD</td>\n",
       "      <td>?</td>\n",
       "      <td>S</td>\n",
       "      <td>WOOD</td>\n",
       "    </tr>\n",
       "    <tr>\n",
       "      <th>3</th>\n",
       "      <td>E5</td>\n",
       "      <td>A</td>\n",
       "      <td>29</td>\n",
       "      <td>1837</td>\n",
       "      <td>HIGHWAY</td>\n",
       "      <td>1000</td>\n",
       "      <td>2</td>\n",
       "      <td>N</td>\n",
       "      <td>THROUGH</td>\n",
       "      <td>WOOD</td>\n",
       "      <td>SHORT</td>\n",
       "      <td>S</td>\n",
       "      <td>WOOD</td>\n",
       "    </tr>\n",
       "    <tr>\n",
       "      <th>4</th>\n",
       "      <td>E6</td>\n",
       "      <td>M</td>\n",
       "      <td>23</td>\n",
       "      <td>1838</td>\n",
       "      <td>HIGHWAY</td>\n",
       "      <td>?</td>\n",
       "      <td>2</td>\n",
       "      <td>N</td>\n",
       "      <td>THROUGH</td>\n",
       "      <td>WOOD</td>\n",
       "      <td>?</td>\n",
       "      <td>S</td>\n",
       "      <td>WOOD</td>\n",
       "    </tr>\n",
       "    <tr>\n",
       "      <th>...</th>\n",
       "      <td>...</td>\n",
       "      <td>...</td>\n",
       "      <td>...</td>\n",
       "      <td>...</td>\n",
       "      <td>...</td>\n",
       "      <td>...</td>\n",
       "      <td>...</td>\n",
       "      <td>...</td>\n",
       "      <td>...</td>\n",
       "      <td>...</td>\n",
       "      <td>...</td>\n",
       "      <td>...</td>\n",
       "      <td>...</td>\n",
       "    </tr>\n",
       "    <tr>\n",
       "      <th>103</th>\n",
       "      <td>E84</td>\n",
       "      <td>A</td>\n",
       "      <td>24</td>\n",
       "      <td>1969</td>\n",
       "      <td>HIGHWAY</td>\n",
       "      <td>870</td>\n",
       "      <td>6</td>\n",
       "      <td>G</td>\n",
       "      <td>THROUGH</td>\n",
       "      <td>STEEL</td>\n",
       "      <td>MEDIUM</td>\n",
       "      <td>F</td>\n",
       "      <td>ARCH</td>\n",
       "    </tr>\n",
       "    <tr>\n",
       "      <th>104</th>\n",
       "      <td>E91</td>\n",
       "      <td>O</td>\n",
       "      <td>44</td>\n",
       "      <td>1975</td>\n",
       "      <td>HIGHWAY</td>\n",
       "      <td>3756</td>\n",
       "      <td>6</td>\n",
       "      <td>G</td>\n",
       "      <td>THROUGH</td>\n",
       "      <td>STEEL</td>\n",
       "      <td>LONG</td>\n",
       "      <td>F</td>\n",
       "      <td>ARCH</td>\n",
       "    </tr>\n",
       "    <tr>\n",
       "      <th>105</th>\n",
       "      <td>E90</td>\n",
       "      <td>M</td>\n",
       "      <td>7</td>\n",
       "      <td>1978</td>\n",
       "      <td>HIGHWAY</td>\n",
       "      <td>950</td>\n",
       "      <td>6</td>\n",
       "      <td>G</td>\n",
       "      <td>THROUGH</td>\n",
       "      <td>STEEL</td>\n",
       "      <td>LONG</td>\n",
       "      <td>F</td>\n",
       "      <td>ARCH</td>\n",
       "    </tr>\n",
       "    <tr>\n",
       "      <th>106</th>\n",
       "      <td>E100</td>\n",
       "      <td>O</td>\n",
       "      <td>43</td>\n",
       "      <td>1982</td>\n",
       "      <td>HIGHWAY</td>\n",
       "      <td>?</td>\n",
       "      <td>?</td>\n",
       "      <td>G</td>\n",
       "      <td>?</td>\n",
       "      <td>?</td>\n",
       "      <td>?</td>\n",
       "      <td>F</td>\n",
       "      <td>?</td>\n",
       "    </tr>\n",
       "    <tr>\n",
       "      <th>107</th>\n",
       "      <td>E109</td>\n",
       "      <td>A</td>\n",
       "      <td>28</td>\n",
       "      <td>1986</td>\n",
       "      <td>HIGHWAY</td>\n",
       "      <td>?</td>\n",
       "      <td>?</td>\n",
       "      <td>G</td>\n",
       "      <td>?</td>\n",
       "      <td>?</td>\n",
       "      <td>?</td>\n",
       "      <td>F</td>\n",
       "      <td>?</td>\n",
       "    </tr>\n",
       "  </tbody>\n",
       "</table>\n",
       "<p>108 rows × 13 columns</p>\n",
       "</div>"
      ],
      "text/plain": [
       "    identifier river location  erected_year   purpose length lanes clear-g  \\\n",
       "0           E1     M        3          1818   HIGHWAY      ?     2       N   \n",
       "1           E2     A       25          1819   HIGHWAY   1037     2       N   \n",
       "2           E3     A       39          1829  AQUEDUCT      ?     1       N   \n",
       "3           E5     A       29          1837   HIGHWAY   1000     2       N   \n",
       "4           E6     M       23          1838   HIGHWAY      ?     2       N   \n",
       "..         ...   ...      ...           ...       ...    ...   ...     ...   \n",
       "103        E84     A       24          1969   HIGHWAY    870     6       G   \n",
       "104        E91     O       44          1975   HIGHWAY   3756     6       G   \n",
       "105        E90     M        7          1978   HIGHWAY    950     6       G   \n",
       "106       E100     O       43          1982   HIGHWAY      ?     ?       G   \n",
       "107       E109     A       28          1986   HIGHWAY      ?     ?       G   \n",
       "\n",
       "      t-or-d material    span rel  type  \n",
       "0    THROUGH     WOOD   SHORT   S  WOOD  \n",
       "1    THROUGH     WOOD   SHORT   S  WOOD  \n",
       "2    THROUGH     WOOD       ?   S  WOOD  \n",
       "3    THROUGH     WOOD   SHORT   S  WOOD  \n",
       "4    THROUGH     WOOD       ?   S  WOOD  \n",
       "..       ...      ...     ...  ..   ...  \n",
       "103  THROUGH    STEEL  MEDIUM   F  ARCH  \n",
       "104  THROUGH    STEEL    LONG   F  ARCH  \n",
       "105  THROUGH    STEEL    LONG   F  ARCH  \n",
       "106        ?        ?       ?   F     ?  \n",
       "107        ?        ?       ?   F     ?  \n",
       "\n",
       "[108 rows x 13 columns]"
      ]
     },
     "execution_count": 2,
     "metadata": {},
     "output_type": "execute_result"
    }
   ],
   "source": [
    "df = pd.read_csv(r'C:\\Users\\poppo\\Desktop\\github ai\\end to end by vivek\\data-science-projects\\pitsburg-bridges\\data\\bridges.csv' , header = None , names=['identifier', 'river', 'location', 'erected_year','purpose','length','lanes',\n",
    "                       'clear-g', 't-or-d', 'material', 'span', 'rel', 'type'])\n",
    "\n",
    "df"
   ]
  },
  {
   "cell_type": "code",
   "execution_count": 3,
   "metadata": {},
   "outputs": [
    {
     "data": {
      "text/plain": [
       "type\n",
       "SIMPLE-T    44\n",
       "WOOD        16\n",
       "ARCH        13\n",
       "SUSPEN      11\n",
       "CANTILEV    11\n",
       "CONT-T      10\n",
       "?            2\n",
       "NIL          1\n",
       "Name: count, dtype: int64"
      ]
     },
     "execution_count": 3,
     "metadata": {},
     "output_type": "execute_result"
    }
   ],
   "source": [
    "df['type'].value_counts()"
   ]
  },
  {
   "cell_type": "code",
   "execution_count": 4,
   "metadata": {},
   "outputs": [
    {
     "data": {
      "text/plain": [
       "Index(['identifier', 'river', 'location', 'erected_year', 'purpose', 'length',\n",
       "       'lanes', 'clear-g', 't-or-d', 'material', 'span', 'rel', 'type'],\n",
       "      dtype='object')"
      ]
     },
     "execution_count": 4,
     "metadata": {},
     "output_type": "execute_result"
    }
   ],
   "source": [
    "df.columns"
   ]
  },
  {
   "cell_type": "code",
   "execution_count": 5,
   "metadata": {},
   "outputs": [
    {
     "data": {
      "text/plain": [
       "identifier      0\n",
       "river           0\n",
       "location        0\n",
       "erected_year    0\n",
       "purpose         0\n",
       "length          0\n",
       "lanes           0\n",
       "clear-g         0\n",
       "t-or-d          0\n",
       "material        0\n",
       "span            0\n",
       "rel             0\n",
       "type            0\n",
       "dtype: int64"
      ]
     },
     "execution_count": 5,
     "metadata": {},
     "output_type": "execute_result"
    }
   ],
   "source": [
    "df.isna().sum()"
   ]
  },
  {
   "cell_type": "code",
   "execution_count": 6,
   "metadata": {},
   "outputs": [
    {
     "data": {
      "text/plain": [
       "identifier       0\n",
       "river            0\n",
       "location         1\n",
       "erected_year     0\n",
       "purpose          0\n",
       "length          27\n",
       "lanes           16\n",
       "clear-g          2\n",
       "t-or-d           6\n",
       "material         2\n",
       "span            16\n",
       "rel              5\n",
       "type             2\n",
       "dtype: int64"
      ]
     },
     "execution_count": 6,
     "metadata": {},
     "output_type": "execute_result"
    }
   ],
   "source": [
    "df[df == \"?\"].count()"
   ]
  },
  {
   "cell_type": "code",
   "execution_count": 7,
   "metadata": {},
   "outputs": [],
   "source": [
    "for col in df.columns:\n",
    "    df[col] = df[col].replace(\"?\", np.nan)"
   ]
  },
  {
   "cell_type": "code",
   "execution_count": 8,
   "metadata": {},
   "outputs": [
    {
     "data": {
      "text/plain": [
       "identifier       0\n",
       "river            0\n",
       "location         1\n",
       "erected_year     0\n",
       "purpose          0\n",
       "length          27\n",
       "lanes           16\n",
       "clear-g          2\n",
       "t-or-d           6\n",
       "material         2\n",
       "span            16\n",
       "rel              5\n",
       "type             2\n",
       "dtype: int64"
      ]
     },
     "execution_count": 8,
     "metadata": {},
     "output_type": "execute_result"
    }
   ],
   "source": [
    "df.isna().sum()"
   ]
  },
  {
   "cell_type": "code",
   "execution_count": 9,
   "metadata": {},
   "outputs": [],
   "source": [
    "df = df.ffill()"
   ]
  },
  {
   "cell_type": "code",
   "execution_count": 10,
   "metadata": {},
   "outputs": [
    {
     "data": {
      "text/plain": [
       "identifier      0\n",
       "river           0\n",
       "location        0\n",
       "erected_year    0\n",
       "purpose         0\n",
       "length          1\n",
       "lanes           0\n",
       "clear-g         0\n",
       "t-or-d          0\n",
       "material        0\n",
       "span            0\n",
       "rel             0\n",
       "type            0\n",
       "dtype: int64"
      ]
     },
     "execution_count": 10,
     "metadata": {},
     "output_type": "execute_result"
    }
   ],
   "source": [
    "df.isna().sum()"
   ]
  },
  {
   "cell_type": "code",
   "execution_count": 11,
   "metadata": {},
   "outputs": [],
   "source": [
    "from sklearn.preprocessing import LabelEncoder\n",
    "\n",
    "lb = LabelEncoder()\n"
   ]
  },
  {
   "cell_type": "code",
   "execution_count": 12,
   "metadata": {},
   "outputs": [],
   "source": [
    "for col in df.columns[:-1]:\n",
    "    if df[col].dtype == object:\n",
    "        df[col] = lb.fit_transform(df[col])\n",
    "    else:\n",
    "        df[col] = lb.fit_transform(df[col])"
   ]
  },
  {
   "cell_type": "code",
   "execution_count": 13,
   "metadata": {},
   "outputs": [],
   "source": [
    "df.to_csv(r\"C:\\Users\\poppo\\Desktop\\github ai\\end to end by vivek\\data-science-projects\\pitsburg-bridges\\data\\preprocesed_data\\processed_data.csv\", index=False)"
   ]
  }
 ],
 "metadata": {
  "kernelspec": {
   "display_name": "mlproj",
   "language": "python",
   "name": "python3"
  },
  "language_info": {
   "codemirror_mode": {
    "name": "ipython",
    "version": 3
   },
   "file_extension": ".py",
   "mimetype": "text/x-python",
   "name": "python",
   "nbconvert_exporter": "python",
   "pygments_lexer": "ipython3",
   "version": "3.8.18"
  }
 },
 "nbformat": 4,
 "nbformat_minor": 2
}
